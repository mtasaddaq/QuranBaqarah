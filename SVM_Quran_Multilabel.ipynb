{
  "cells": [
    {
      "cell_type": "markdown",
      "id": "cb2049d0",
      "metadata": {},
      "source": [
        "# SVM Multi-label Text Classification\n",
        "This notebook demonstrates multi-label classification using a Support Vector Machine (SVM) model applied to Quranic verses. It includes preprocessing, feature extraction, model training, and evaluation metrics."
      ]
    },
    {
      "cell_type": "code",
      "execution_count": null,
      "id": "b013ceda",
      "metadata": {},
      "outputs": [],
      "source": [
        "# Import required libraries\n",
        "import pandas as pd\n",
        "from sklearn.feature_extraction.text import TfidfVectorizer\n",
        "from sklearn.svm import LinearSVC\n",
        "from sklearn.model_selection import train_test_split\n",
        "from sklearn.metrics import hamming_loss, precision_score, recall_score, f1_score\n",
        "from sklearn.multioutput import MultiOutputClassifier"
      ]
    },
    {
      "cell_type": "markdown",
      "id": "a5e3af41",
      "metadata": {},
      "source": [
        "## Load Dataset"
      ]
    },
    {
      "cell_type": "code",
      "execution_count": null,
      "id": "11a20f7c",
      "metadata": {},
      "outputs": [],
      "source": [
        "# Load dataset\n",
        "df = pd.read_csv(\"QuranDS.csv\")\n",
        "df.dropna(subset=['Verses', 'ManualLabels'], inplace=True)\n",
        "df.head()"
      ]
    },
    {
      "cell_type": "markdown",
      "id": "1602c89d",
      "metadata": {},
      "source": [
        "## Preprocess Text and Labels"
      ]
    },
    {
      "cell_type": "code",
      "execution_count": null,
      "id": "c6c5b80b",
      "metadata": {},
      "outputs": [],
      "source": [
        "# Extract features and multi-label targets\n",
        "X = df['Verses']\n",
        "y = df['ManualLabels'].str.get_dummies(sep=',')\n",
        "y.sum().sort_values(ascending=False)"
      ]
    },
    {
      "cell_type": "markdown",
      "id": "60ac1ca7",
      "metadata": {},
      "source": [
        "## Vectorization using TF-IDF"
      ]
    },
    {
      "cell_type": "code",
      "execution_count": null,
      "id": "1e15530b",
      "metadata": {},
      "outputs": [],
      "source": [
        "# TF-IDF transformation of verses\n",
        "vectorizer = TfidfVectorizer()\n",
        "X_vec = vectorizer.fit_transform(X)\n",
        "X_vec.shape"
      ]
    },
    {
      "cell_type": "markdown",
      "id": "72107850",
      "metadata": {},
      "source": [
        "## Split Dataset into Train and Test Sets"
      ]
    },
    {
      "cell_type": "code",
      "execution_count": null,
      "id": "b2668258",
      "metadata": {},
      "outputs": [],
      "source": [
        "# Split into training and test sets (80/20)\n",
        "X_train, X_test, y_train, y_test = train_test_split(X_vec, y, test_size=0.2, random_state=42)"
      ]
    },
    {
      "cell_type": "markdown",
      "id": "b87d91d1",
      "metadata": {},
      "source": [
        "## Train Support Vector Machine Model"
      ]
    },
    {
      "cell_type": "code",
      "execution_count": null,
      "id": "ded0a8c8",
      "metadata": {},
      "outputs": [],
      "source": [
        "# Train the multi-label classifier using Linear SVM\n",
        "model = MultiOutputClassifier(LinearSVC())\n",
        "model.fit(X_train, y_train)"
      ]
    },
    {
      "cell_type": "markdown",
      "id": "65ad1b26",
      "metadata": {},
      "source": [
        "## Evaluate Model Performance"
      ]
    },
    {
      "cell_type": "code",
      "execution_count": null,
      "id": "dee36d06",
      "metadata": {},
      "outputs": [],
      "source": [
        "# Predict and evaluate performance\n",
        "y_pred = model.predict(X_test)\n",
        "print(\"Hamming Loss:\", hamming_loss(y_test, y_pred))\n",
        "print(\"Precision:\", precision_score(y_test, y_pred, average='micro'))\n",
        "print(\"Recall:\", recall_score(y_test, y_pred, average='micro'))\n",
        "print(\"F1 Score:\", f1_score(y_test, y_pred, average='micro'))"
      ]
    }
  ],
  "metadata": {
    "kernelspec": {
      "display_name": "Python 3",
      "language": "python",
      "name": "python3"
    },
    "language_info": {
      "name": "python",
      "version": "3.11"
    }
  },
  "nbformat": 4,
  "nbformat_minor": 5
}
