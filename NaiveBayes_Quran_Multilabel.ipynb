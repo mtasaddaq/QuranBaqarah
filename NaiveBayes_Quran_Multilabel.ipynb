{
  "cells": [
    {
      "cell_type": "markdown",
      "id": "7ef9ce95",
      "metadata": {},
      "source": [
        "# Naïve Bayes Multi-label Text Classification\n",
        "This notebook demonstrates a multi-label classification pipeline using the Naïve Bayes algorithm on Quranic verses. The pipeline includes preprocessing, vectorization, model training, and evaluation using standard metrics."
      ]
    },
    {
      "cell_type": "code",
      "execution_count": null,
      "id": "f87f0c07",
      "metadata": {},
      "outputs": [],
      "source": [
        "# Import required libraries\n",
        "import pandas as pd\n",
        "from sklearn.feature_extraction.text import TfidfVectorizer\n",
        "from sklearn.naive_bayes import MultinomialNB\n",
        "from sklearn.model_selection import train_test_split\n",
        "from sklearn.metrics import hamming_loss, precision_score, recall_score, f1_score\n",
        "from sklearn.multioutput import MultiOutputClassifier"
      ]
    },
    {
      "cell_type": "markdown",
      "id": "2ad6ec96",
      "metadata": {},
      "source": [
        "## Load Dataset"
      ]
    },
    {
      "cell_type": "code",
      "execution_count": null,
      "id": "bb6f011a",
      "metadata": {},
      "outputs": [],
      "source": [
        "# Load the dataset (update the file path if needed)\n",
        "df = pd.read_csv(\"QuranDS.csv\")\n",
        "df.dropna(subset=['Verses', 'ManualLabels'], inplace=True)  # Ensure no nulls\n",
        "df.head()"
      ]
    },
    {
      "cell_type": "markdown",
      "id": "2120fb45",
      "metadata": {},
      "source": [
        "## Preprocess Text and Labels"
      ]
    },
    {
      "cell_type": "code",
      "execution_count": null,
      "id": "66f247ed",
      "metadata": {},
      "outputs": [],
      "source": [
        "# Define input features and multi-label targets\n",
        "X = df['Verses']\n",
        "y = df['ManualLabels'].str.get_dummies(sep=',')\n",
        "\n",
        "# Display label distribution\n",
        "y.sum().sort_values(ascending=False)"
      ]
    },
    {
      "cell_type": "markdown",
      "id": "d4dd2348",
      "metadata": {},
      "source": [
        "## Vectorization using TF-IDF"
      ]
    },
    {
      "cell_type": "code",
      "execution_count": null,
      "id": "fe7c9587",
      "metadata": {},
      "outputs": [],
      "source": [
        "# Convert verses into TF-IDF features\n",
        "vectorizer = TfidfVectorizer()\n",
        "X_vec = vectorizer.fit_transform(X)\n",
        "X_vec.shape"
      ]
    },
    {
      "cell_type": "markdown",
      "id": "73311b5b",
      "metadata": {},
      "source": [
        "## Split Dataset into Train and Test Sets"
      ]
    },
    {
      "cell_type": "code",
      "execution_count": null,
      "id": "0a2b7f69",
      "metadata": {},
      "outputs": [],
      "source": [
        "# Perform 80/20 train-test split\n",
        "X_train, X_test, y_train, y_test = train_test_split(X_vec, y, test_size=0.2, random_state=42)"
      ]
    },
    {
      "cell_type": "markdown",
      "id": "38b6d63d",
      "metadata": {},
      "source": [
        "## Train Naïve Bayes Model"
      ]
    },
    {
      "cell_type": "code",
      "execution_count": null,
      "id": "90703dd9",
      "metadata": {},
      "outputs": [],
      "source": [
        "# Fit the Naïve Bayes model\n",
        "model = MultiOutputClassifier(MultinomialNB())\n",
        "model.fit(X_train, y_train)"
      ]
    },
    {
      "cell_type": "markdown",
      "id": "7ba2c8ff",
      "metadata": {},
      "source": [
        "## Evaluate Model Performance"
      ]
    },
    {
      "cell_type": "code",
      "execution_count": null,
      "id": "efac2c66",
      "metadata": {},
      "outputs": [],
      "source": [
        "# Predict on the test set\n",
        "y_pred = model.predict(X_test)\n",
        "\n",
        "# Compute and print evaluation metrics\n",
        "print(\"Hamming Loss:\", hamming_loss(y_test, y_pred))\n",
        "print(\"Precision:\", precision_score(y_test, y_pred, average='micro'))\n",
        "print(\"Recall:\", recall_score(y_test, y_pred, average='micro'))\n",
        "print(\"F1 Score:\", f1_score(y_test, y_pred, average='micro'))"
      ]
    }
  ],
  "metadata": {
    "kernelspec": {
      "display_name": "Python 3",
      "language": "python",
      "name": "python3"
    },
    "language_info": {
      "name": "python",
      "version": "3.11"
    }
  },
  "nbformat": 4,
  "nbformat_minor": 5
}
