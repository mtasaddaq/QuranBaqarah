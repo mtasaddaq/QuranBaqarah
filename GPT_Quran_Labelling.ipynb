{
  "cells": [
    {
      "cell_type": "markdown",
      "id": "aec36577",
      "metadata": {},
      "source": [
        "# GPT-Based Multi-Label Classification for Quran Verses\n",
        "This notebook uses SBERT embeddings and OpenAI GPT API to predict multi-labels for Quranic verses."
      ]
    },
    {
      "cell_type": "code",
      "execution_count": null,
      "id": "0962d707",
      "metadata": {},
      "outputs": [],
      "source": [
        "# Install necessary packages\n",
        "!pip install openai \n",
        "!pip install jsonlines"
      ]
    },
    {
      "cell_type": "markdown",
      "id": "449d848c",
      "metadata": {},
      "source": [
        "## Load Data and Imports"
      ]
    },
    {
      "cell_type": "code",
      "execution_count": null,
      "id": "8d2c573c",
      "metadata": {},
      "outputs": [],
      "source": [
        "import pickle\n",
        "import numpy as np\n",
        "import openai\n",
        "from sklearn.model_selection import train_test_split\n",
        "\n",
        "# Load SBERT embeddings and labels\n",
        "with open(\"sbert_embeddings_quran.pkl\", \"rb\") as f:\n",
        "    X, y, label_classes = pickle.load(f)\n",
        "\n",
        "# Optional: load original verses for reference\n",
        "import pandas as pd\n",
        "df = pd.read_csv(\"QuranDS.csv\", encoding='ISO-8859-1')\n",
        "verses = df['verse'].tolist()\n",
        "\n",
        "# Prepare train/test split\n",
        "X_train, X_test, y_train, y_test, verses_train, verses_test = train_test_split(\n",
        "    X, y, verses, test_size=0.1, random_state=42)"
      ]
    },
    {
      "cell_type": "markdown",
      "id": "08d77d19",
      "metadata": {},
      "source": [
        "## Configure OpenAI API"
      ]
    },
    {
      "cell_type": "code",
      "execution_count": null,
      "id": "e807d591",
      "metadata": {},
      "outputs": [],
      "source": [
        "# Set your OpenAI API key\n",
        "import os\n",
        "openai.api_key = (\"your-api-key-here\")  # Use key here  "
      ]
    },
    {
      "cell_type": "code",
      "execution_count": null,
      "id": "7d0fcb15",
      "metadata": {},
      "outputs": [],
      "source": [
        "# View all the current models under training\n",
        "response = openai.FineTune.list()\n",
        "\n",
        "for model in response['data']:\n",
        "    print(model['id'], \" : \", model['status'], \" : \", model['fine_tuned_model'])"
      ]
    },
    {
      "cell_type": "markdown",
      "id": "d4d3d385",
      "metadata": {},
      "source": [
        "## GPT Label Prediction Function"
      ]
    },
    {
      "cell_type": "code",
      "execution_count": null,
      "id": "d07f88f2",
      "metadata": {},
      "outputs": [],
      "source": [
        "def predict_labels_with_gpt(verse, label_options):\n",
        "    prompt = (\n",
        "        f\"Quran Verse: \\\"{verse}\\\"\\n\"\n",
        "        f\"Available Labels: {', '.join(label_options)}\\n\"\n",
        "        f\"Predict relevant labels from the list above that apply to this verse.\"\n",
        "        f\" Return them as a comma-separated list.\\n\"\n",
        "    )\n",
        "    \n",
        "    response = openai.ChatCompletion.create(\n",
        "        model=\"gpt-4\",\n",
        "        messages=[\n",
        "            {\"role\": \"system\", \"content\": \"You are a helpful assistant for classifying Quranic verses.\"},\n",
        "            {\"role\": \"user\", \"content\": prompt},\n",
        "        ]\n",
        "    )\n",
        "    \n",
        "    reply = response['choices'][0]['message']['content']\n",
        "    return [label.strip().lower() for label in reply.split(',') if label.strip()]"
      ]
    },
    {
      "cell_type": "markdown",
      "id": "5c9fe5f3",
      "metadata": {},
      "source": [
        "## Predict and Evaluate"
      ]
    },
    {
      "cell_type": "code",
      "execution_count": null,
      "id": "c1f5cf7e",
      "metadata": {},
      "outputs": [],
      "source": [
        "from sklearn.metrics import classification_report\n",
        "\n",
        "# Predict labels for a few test examples\n",
        "n_samples = 283\n",
        "predicted_labels = []\n",
        "true_labels = []\n",
        "sample_title = []\n",
        "for i in df['verse']:\n",
        "\n",
        "  Input_String = i\n",
        "  use_prompt = f\"String:{Input_String} \\n\\n###\\n\\n\"\n",
        "\n",
        "  result = openai.Completion.create(\n",
        "      model=\"davinci:ft-launch-wild-2024-10-08-11-01-21\",\n",
        "      prompt = use_prompt,\n",
        "      temperature=0.7,\n",
        "      max_tokens=50,\n",
        "  #     top_p=1,\n",
        "      n = 1,\n",
        "      frequency_penalty=0,\n",
        "      presence_penalty=0,\n",
        "      stop=[\"END\"])\n",
        "\n",
        "\n",
        "  result = result['choices'][0]['text'].strip()\n",
        "  sample_title.append(result)\n",
        "  print(\"Predicted Titles: \", result)\n",
        "for i in range(n_samples):\n",
        "    verse = verses_test[i]\n",
        "    gpt_labels = predict_labels_with_gpt(verse, label_classes)\n",
        "    predicted_labels.append(gpt_labels)\n",
        "    \n",
        "    # Get true labels\n",
        "    true = [label_classes[j] for j in range(len(label_classes)) if y_test[i][j] == 1]\n",
        "    true_labels.append(true)\n",
        "    \n",
        "    print(f\"\\nVerse: {verse}\\nTrue Labels: {true}\\nGPT Predicted: {gpt_labels}\")"
      ]
    },
    {
      "cell_type": "markdown",
      "id": "9b0c1190",
      "metadata": {},
      "source": [
        "---\n",
        "**Note:** GPT predictions are not directly usable for training but useful for bootstrapping or validating label schemes."
      ]
    }
  ],
  "metadata": {
    "kernelspec": {
      "display_name": "Python 3",
      "language": "python",
      "name": "python3"
    },
    "language_info": {
      "name": "python",
      "version": "3.11"
    }
  },
  "nbformat": 4,
  "nbformat_minor": 5
}
