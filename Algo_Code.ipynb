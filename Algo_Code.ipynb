{
  "cells": [
    {
      "cell_type": "markdown",
      "id": "436f6914",
      "metadata": {},
      "source": [
        "# Quran Verse Matching Algorithms\n",
        "This notebook implements four different algorithms for identifying matching verses in the Quran based on shared labels. It concludes with a combined implementation using CSV input."
      ]
    },
    {
      "cell_type": "markdown",
      "id": "a2ae4308",
      "metadata": {},
      "source": [
        "## Algorithm 1: Basic Implementation"
      ]
    },
    {
      "cell_type": "code",
      "execution_count": null,
      "id": "1e535cd2",
      "metadata": {},
      "outputs": [],
      "source": [
        "def fetch_label(index, label_dict):\n",
        "    return label_dict.get(index, [])\n",
        "\n",
        "def basic_algorithm(label_dict):\n",
        "    matching_verses = {}\n",
        "    for i in range(2, len(label_dict) + 1):\n",
        "        label_i = fetch_label(i, label_dict)\n",
        "        matching_verses[i] = set()\n",
        "        for word in label_i:\n",
        "            for k in range(2, len(label_dict) + 1):\n",
        "                if k == i:\n",
        "                    continue\n",
        "                label_k = fetch_label(k, label_dict)\n",
        "                if word in label_k:\n",
        "                    matching_verses[i].add(k)\n",
        "    return matching_verses"
      ]
    },
    {
      "cell_type": "markdown",
      "id": "37317a73",
      "metadata": {},
      "source": [
        "## Algorithm 2: Optimization with Sets"
      ]
    },
    {
      "cell_type": "code",
      "execution_count": null,
      "id": "34354975",
      "metadata": {},
      "outputs": [],
      "source": [
        "def fetch_label(index, label_dict):\n",
        "    return set(label_dict.get(index, []))\n",
        "\n",
        "def optimized_algorithm(label_dict):\n",
        "    matching_verses = {}\n",
        "    for i in range(2, len(label_dict) + 1):\n",
        "        label_i = fetch_label(i, label_dict)\n",
        "        matching_verses[i] = set()\n",
        "        for k in range(2, len(label_dict) + 1):\n",
        "            if k == i:\n",
        "                continue\n",
        "            label_k = fetch_label(k, label_dict)\n",
        "            if label_i & label_k:\n",
        "                matching_verses[i].add(k)\n",
        "    return matching_verses"
      ]
    },
    {
      "cell_type": "markdown",
      "id": "68ed4ed2",
      "metadata": {},
      "source": [
        "## Algorithm 3: Processing Optimization with Inverted Index"
      ]
    },
    {
      "cell_type": "code",
      "execution_count": null,
      "id": "cf547080",
      "metadata": {},
      "outputs": [],
      "source": [
        "from collections import defaultdict\n",
        "\n",
        "def build_inverted_index(label_dict):\n",
        "    inverted_index = defaultdict(set)\n",
        "    for verse_number, labels in label_dict.items():\n",
        "        for word in labels:\n",
        "            inverted_index[word].add(verse_number)\n",
        "    return inverted_index\n",
        "\n",
        "def fetch_label(index, label_dict):\n",
        "    return label_dict.get(index, [])\n",
        "\n",
        "def processing_optimization(label_dict):\n",
        "    inverted_index = build_inverted_index(label_dict)\n",
        "    matching_verses = {}\n",
        "    for i in range(2, len(label_dict) + 1):\n",
        "        label_i = fetch_label(i, label_dict)\n",
        "        matching_verses[i] = set()\n",
        "        for word in label_i:\n",
        "            for verse_number in inverted_index[word]:\n",
        "                if verse_number != i:\n",
        "                    matching_verses[i].add(verse_number)\n",
        "    return matching_verses"
      ]
    },
    {
      "cell_type": "markdown",
      "id": "d79d5cfd",
      "metadata": {},
      "source": [
        "## Algorithm 4: Early Termination Optimization"
      ]
    },
    {
      "cell_type": "code",
      "execution_count": null,
      "id": "b453a997",
      "metadata": {},
      "outputs": [],
      "source": [
        "def fetch_label(index, label_dict):\n",
        "    return label_dict.get(index, [])\n",
        "\n",
        "def early_termination_optimization(label_dict):\n",
        "    matching_verses = {}\n",
        "    for i in range(2, len(label_dict) + 1):\n",
        "        label_i = fetch_label(i, label_dict)\n",
        "        matching_verses[i] = set()\n",
        "        for word in label_i:\n",
        "            matched = False\n",
        "            for k in range(2, len(label_dict) + 1):\n",
        "                if k == i:\n",
        "                    continue\n",
        "                label_k = fetch_label(k, label_dict)\n",
        "                if word in label_k:\n",
        "                    matching_verses[i].add(k)\n",
        "                    matched = True\n",
        "                    break\n",
        "            if matched:\n",
        "                break\n",
        "    return matching_verses"
      ]
    },
    {
      "cell_type": "markdown",
      "id": "ba83576d",
      "metadata": {},
      "source": [
        "## Combined Matching Using CSV Data"
      ]
    },
    {
      "cell_type": "code",
      "execution_count": null,
      "id": "e710aca4",
      "metadata": {},
      "outputs": [],
      "source": [
        "import csv\n",
        "\n",
        "csv_path = 'QuranDS.csv'\n",
        "with open(csv_path, mode='r', encoding='utf-8') as file:\n",
        "    reader = csv.reader(file)\n",
        "    data = list(reader)\n",
        "\n",
        "machine_labels = [row[14].split() for row in data]\n",
        "common_labels = [row[15].split() for row in data]\n",
        "\n",
        "matching_indices = {}\n",
        "for i, label_words in enumerate(common_labels):\n",
        "    for word in label_words:\n",
        "        for j, verse_labels in enumerate(machine_labels):\n",
        "            if word in verse_labels:\n",
        "                matching_indices.setdefault(i, []).append(j)\n",
        "\n",
        "print(matching_indices)"
      ]
    }
  ],
  "metadata": {
    "kernelspec": {
      "display_name": "Python 3",
      "language": "python",
      "name": "python3"
    },
    "language_info": {
      "name": "python",
      "version": "3.11"
    }
  },
  "nbformat": 4,
  "nbformat_minor": 5
}
