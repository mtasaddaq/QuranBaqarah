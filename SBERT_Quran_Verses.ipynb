{
  "cells": [
    {
      "cell_type": "markdown",
      "metadata": {},
      "source": [
        "# SBERT Embeddings for Quran Verses\nThis notebook loads Quran verses, generates SBERT embeddings, and prepares multi-label targets."
      ]
    },
    {
      "cell_type": "code",
      "metadata": {},
      "execution_count": null,
      "outputs": [],
      "source": [
        "# Install required libraries\n!pip install sentence-transformers pandas scikit-learn"
      ]
    },
    {
      "cell_type": "code",
      "metadata": {},
      "execution_count": null,
      "outputs": [],
      "source": [
        "import pandas as pd\nimport numpy as np\nfrom sentence_transformers import SentenceTransformer\nfrom sklearn.preprocessing import MultiLabelBinarizer\nimport pickle"
      ]
    },
    {
      "cell_type": "markdown",
      "metadata": {},
      "source": [
        "## Load and Prepare Dataset"
      ]
    },
    {
      "cell_type": "code",
      "metadata": {},
      "execution_count": null,
      "outputs": [],
      "source": [
        "# Load the dataset (update path as needed)\ndf = pd.read_csv(\"QuranDS.csv\", encoding='ISO-8859-1')\n\n# Combine label columns into a list\nlabel_columns = [f'lb{i}' for i in range(1, 13)]\ndf['labels'] = df[label_columns].values.tolist()\ndf['labels'] = df['labels'].apply(lambda x: [str(label).strip() for label in x if pd.notna(label)])\n\n# Preview\ndf[['verse', 'labels']].head()"
      ]
    },
    {
      "cell_type": "markdown",
      "metadata": {},
      "source": [
        "## Generate SBERT Embeddings"
      ]
    },
    {
      "cell_type": "code",
      "metadata": {},
      "execution_count": null,
      "outputs": [],
      "source": [
        "# Load SBERT model\nmodel = SentenceTransformer('all-MiniLM-L6-v2')\n\n# Generate embeddings\nembeddings = model.encode(df['verse'].tolist(), show_progress_bar=True)\nX = np.array(embeddings)"
      ]
    },
    {
      "cell_type": "markdown",
      "metadata": {},
      "source": [
        "## Encode Labels (MultiLabel)"
      ]
    },
    {
      "cell_type": "code",
      "metadata": {},
      "execution_count": null,
      "outputs": [],
      "source": [
        "mlb = MultiLabelBinarizer()\ny = mlb.fit_transform(df['labels'])\nlabel_classes = mlb.classes_\n\nprint(\"Label shape:\", y.shape)\nprint(\"Example labels:\", df['labels'].iloc[0], \"=>\", y[0])"
      ]
    },
    {
      "cell_type": "markdown",
      "metadata": {},
      "source": [
        "## Save Embeddings and Labels"
      ]
    },
    {
      "cell_type": "code",
      "metadata": {},
      "execution_count": null,
      "outputs": [],
      "source": [
        "with open(\"sbert_embeddings_quran.pkl\", \"wb\") as f:\n    pickle.dump((X, y, label_classes), f)\n\nprint(\"Embeddings and labels saved to sbert_embeddings_quran.pkl\")"
      ]
    }
  ],
  "metadata": {
    "kernelspec": {
      "display_name": "Python 3",
      "language": "python",
      "name": "python3"
    },
    "language_info": {
      "name": "python",
      "version": "3.11"
    }
  },
  "nbformat": 4,
  "nbformat_minor": 5
}